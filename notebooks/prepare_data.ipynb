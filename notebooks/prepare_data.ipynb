{
 "cells": [
  {
   "cell_type": "code",
   "execution_count": 1,
   "metadata": {},
   "outputs": [],
   "source": [
    "import ast\n",
    "from functools import partial\n",
    "from typing import Optional\n",
    "\n",
    "import pandas as pd\n",
    "from sklearn.preprocessing import MultiLabelBinarizer"
   ]
  },
  {
   "cell_type": "code",
   "execution_count": 2,
   "metadata": {},
   "outputs": [],
   "source": [
    "ptbxl = pd.read_csv(r\"../data/raw/ptbxl_database.csv\", index_col=\"ecg_id\")"
   ]
  },
  {
   "cell_type": "code",
   "execution_count": 3,
   "metadata": {},
   "outputs": [
    {
     "data": {
      "text/plain": [
       "(array([\"{'NORM': 100.0, 'LVOLT': 0.0, 'SR': 0.0}\",\n",
       "        \"{'NORM': 80.0, 'SBRAD': 0.0}\", \"{'NORM': 100.0, 'SR': 0.0}\", ...,\n",
       "        \"{'IMI': 100.0, 'ISCLA': 50.0, 'ABQRS': 0.0, 'SVARR': 0.0}\",\n",
       "        \"{'IMI': 80.0, 'ISCLA': 100.0, 'PVC': 100.0, 'ABQRS': 0.0, 'SR': 0.0}\",\n",
       "        \"{'NDT': 100.0, 'PVC': 100.0, 'VCLVH': 0.0, 'STACH': 0.0}\"],\n",
       "       dtype=object),\n",
       " 5466)"
      ]
     },
     "execution_count": 3,
     "metadata": {},
     "output_type": "execute_result"
    }
   ],
   "source": [
    "unique_diagnosis = ptbxl.scp_codes.unique()\n",
    "unique_diagnosis, len(unique_diagnosis)"
   ]
  },
  {
   "cell_type": "code",
   "execution_count": 4,
   "metadata": {},
   "outputs": [],
   "source": [
    "# Convert dict string to dict object\n",
    "ptbxl.scp_codes = ptbxl.scp_codes.apply(ast.literal_eval)"
   ]
  },
  {
   "cell_type": "code",
   "execution_count": 5,
   "metadata": {},
   "outputs": [
    {
     "data": {
      "text/plain": [
       "ecg_id\n",
       "1                 {'NORM': 100.0, 'LVOLT': 0.0, 'SR': 0.0}\n",
       "2                             {'NORM': 80.0, 'SBRAD': 0.0}\n",
       "3                               {'NORM': 100.0, 'SR': 0.0}\n",
       "4                               {'NORM': 100.0, 'SR': 0.0}\n",
       "5                               {'NORM': 100.0, 'SR': 0.0}\n",
       "                               ...                        \n",
       "21833    {'NDT': 100.0, 'PVC': 100.0, 'VCLVH': 0.0, 'ST...\n",
       "21834             {'NORM': 100.0, 'ABQRS': 0.0, 'SR': 0.0}\n",
       "21835                           {'ISCAS': 50.0, 'SR': 0.0}\n",
       "21836                           {'NORM': 100.0, 'SR': 0.0}\n",
       "21837                           {'NORM': 100.0, 'SR': 0.0}\n",
       "Name: scp_codes, Length: 21837, dtype: object"
      ]
     },
     "execution_count": 5,
     "metadata": {},
     "output_type": "execute_result"
    }
   ],
   "source": [
    "ptbxl.scp_codes"
   ]
  },
  {
   "cell_type": "code",
   "execution_count": 6,
   "metadata": {},
   "outputs": [],
   "source": [
    "def probs_to_tuple(probs: dict[str, int], threshold: int = 20) -> Optional[tuple[str]]:\n",
    "    \"\"\"\n",
    "    Convert dict of diagnoses and their probabilities to\n",
    "    tuple of diagnoses with probabilities >= given threshold.\n",
    "    If result include diagnose with \"NORM\" or empty, return NA for later drop\n",
    "    \"\"\"\n",
    "\n",
    "    result = tuple([key for key, value in probs.items() if value >= threshold])\n",
    "\n",
    "    is_diagnose_with_norm = (\"NORM\" in result) and (len(result) > 1)\n",
    "\n",
    "    if not result or is_diagnose_with_norm:\n",
    "        return None\n",
    "\n",
    "    return result"
   ]
  },
  {
   "cell_type": "code",
   "execution_count": 7,
   "metadata": {},
   "outputs": [],
   "source": [
    "# Some tests for above function\n",
    "\n",
    "assert probs_to_tuple({\"NORM\": 100, \"1\": 19, \"2\": 10}) == (\"NORM\",)\n",
    "assert probs_to_tuple({\"NORM\": 40, \"1\": 50, \"2\": 100}) == None\n",
    "assert probs_to_tuple({\"NORM\": 40, \"1\": 50, \"2\": 20}) == None\n",
    "assert probs_to_tuple({\"1\": 50, \"2\": 20}) == (\"1\", \"2\")"
   ]
  },
  {
   "cell_type": "code",
   "execution_count": 8,
   "metadata": {},
   "outputs": [],
   "source": [
    "probs_to_tuple_15 = partial(probs_to_tuple, threshold=100)"
   ]
  },
  {
   "cell_type": "code",
   "execution_count": 9,
   "metadata": {},
   "outputs": [
    {
     "data": {
      "text/plain": [
       "ecg_id\n",
       "1           (NORM,)\n",
       "2              None\n",
       "3           (NORM,)\n",
       "4           (NORM,)\n",
       "5           (NORM,)\n",
       "            ...    \n",
       "21833    (NDT, PVC)\n",
       "21834       (NORM,)\n",
       "21835          None\n",
       "21836       (NORM,)\n",
       "21837       (NORM,)\n",
       "Name: diagnoses, Length: 21837, dtype: object"
      ]
     },
     "execution_count": 9,
     "metadata": {},
     "output_type": "execute_result"
    }
   ],
   "source": [
    "ptbxl[\"diagnoses\"] = ptbxl.scp_codes.apply(probs_to_tuple_15)\n",
    "ptbxl.diagnoses"
   ]
  },
  {
   "cell_type": "code",
   "execution_count": 10,
   "metadata": {},
   "outputs": [
    {
     "data": {
      "text/plain": [
       "(array([('NORM',), None, ('AFLT',), ..., ('LVH', 'ISC_', '2AVB'),\n",
       "        ('IMI', 'NDT', '1AVB'), ('ISCIL', 'RAO/RAE')], dtype=object),\n",
       " 1229)"
      ]
     },
     "execution_count": 10,
     "metadata": {},
     "output_type": "execute_result"
    }
   ],
   "source": [
    "ptbxl.diagnoses.unique(), len(ptbxl.diagnoses.unique())"
   ]
  },
  {
   "cell_type": "code",
   "execution_count": 11,
   "metadata": {},
   "outputs": [
    {
     "data": {
      "text/plain": [
       "4083"
      ]
     },
     "execution_count": 11,
     "metadata": {},
     "output_type": "execute_result"
    }
   ],
   "source": [
    "len(ptbxl[ptbxl.diagnoses.isna()])"
   ]
  },
  {
   "cell_type": "code",
   "execution_count": 12,
   "metadata": {},
   "outputs": [],
   "source": [
    "# Almost half of the dataset is NORM"
   ]
  },
  {
   "cell_type": "code",
   "execution_count": 13,
   "metadata": {},
   "outputs": [
    {
     "data": {
      "text/html": [
       "<div>\n",
       "<style scoped>\n",
       "    .dataframe tbody tr th:only-of-type {\n",
       "        vertical-align: middle;\n",
       "    }\n",
       "\n",
       "    .dataframe tbody tr th {\n",
       "        vertical-align: top;\n",
       "    }\n",
       "\n",
       "    .dataframe thead th {\n",
       "        text-align: right;\n",
       "    }\n",
       "</style>\n",
       "<table border=\"1\" class=\"dataframe\">\n",
       "  <thead>\n",
       "    <tr style=\"text-align: right;\">\n",
       "      <th></th>\n",
       "      <th>description</th>\n",
       "      <th>diagnostic</th>\n",
       "      <th>form</th>\n",
       "      <th>rhythm</th>\n",
       "      <th>diagnostic_class</th>\n",
       "      <th>diagnostic_subclass</th>\n",
       "      <th>Statement Category</th>\n",
       "      <th>SCP-ECG Statement Description</th>\n",
       "      <th>AHA code</th>\n",
       "      <th>aECG REFID</th>\n",
       "      <th>CDISC Code</th>\n",
       "      <th>DICOM Code</th>\n",
       "    </tr>\n",
       "  </thead>\n",
       "  <tbody>\n",
       "    <tr>\n",
       "      <th>NDT</th>\n",
       "      <td>non-diagnostic T abnormalities</td>\n",
       "      <td>1.0</td>\n",
       "      <td>1.0</td>\n",
       "      <td>NaN</td>\n",
       "      <td>STTC</td>\n",
       "      <td>STTC</td>\n",
       "      <td>other ST-T descriptive statements</td>\n",
       "      <td>non-diagnostic T abnormalities</td>\n",
       "      <td>NaN</td>\n",
       "      <td>NaN</td>\n",
       "      <td>NaN</td>\n",
       "      <td>NaN</td>\n",
       "    </tr>\n",
       "    <tr>\n",
       "      <th>NST_</th>\n",
       "      <td>non-specific ST changes</td>\n",
       "      <td>1.0</td>\n",
       "      <td>1.0</td>\n",
       "      <td>NaN</td>\n",
       "      <td>STTC</td>\n",
       "      <td>NST_</td>\n",
       "      <td>Basic roots for coding ST-T changes and abnorm...</td>\n",
       "      <td>non-specific ST changes</td>\n",
       "      <td>145.0</td>\n",
       "      <td>MDC_ECG_RHY_STHILOST</td>\n",
       "      <td>NaN</td>\n",
       "      <td>NaN</td>\n",
       "    </tr>\n",
       "    <tr>\n",
       "      <th>DIG</th>\n",
       "      <td>digitalis-effect</td>\n",
       "      <td>1.0</td>\n",
       "      <td>1.0</td>\n",
       "      <td>NaN</td>\n",
       "      <td>STTC</td>\n",
       "      <td>STTC</td>\n",
       "      <td>other ST-T descriptive statements</td>\n",
       "      <td>suggests digitalis-effect</td>\n",
       "      <td>205.0</td>\n",
       "      <td>NaN</td>\n",
       "      <td>NaN</td>\n",
       "      <td>NaN</td>\n",
       "    </tr>\n",
       "    <tr>\n",
       "      <th>LNGQT</th>\n",
       "      <td>long QT-interval</td>\n",
       "      <td>1.0</td>\n",
       "      <td>1.0</td>\n",
       "      <td>NaN</td>\n",
       "      <td>STTC</td>\n",
       "      <td>STTC</td>\n",
       "      <td>other ST-T descriptive statements</td>\n",
       "      <td>long QT-interval</td>\n",
       "      <td>148.0</td>\n",
       "      <td>NaN</td>\n",
       "      <td>NaN</td>\n",
       "      <td>NaN</td>\n",
       "    </tr>\n",
       "    <tr>\n",
       "      <th>NORM</th>\n",
       "      <td>normal ECG</td>\n",
       "      <td>1.0</td>\n",
       "      <td>NaN</td>\n",
       "      <td>NaN</td>\n",
       "      <td>NORM</td>\n",
       "      <td>NORM</td>\n",
       "      <td>Normal/abnormal</td>\n",
       "      <td>normal ECG</td>\n",
       "      <td>1.0</td>\n",
       "      <td>NaN</td>\n",
       "      <td>NaN</td>\n",
       "      <td>F-000B7</td>\n",
       "    </tr>\n",
       "  </tbody>\n",
       "</table>\n",
       "</div>"
      ],
      "text/plain": [
       "                          description  diagnostic  form  rhythm  \\\n",
       "NDT    non-diagnostic T abnormalities         1.0   1.0     NaN   \n",
       "NST_          non-specific ST changes         1.0   1.0     NaN   \n",
       "DIG                  digitalis-effect         1.0   1.0     NaN   \n",
       "LNGQT                long QT-interval         1.0   1.0     NaN   \n",
       "NORM                       normal ECG         1.0   NaN     NaN   \n",
       "\n",
       "      diagnostic_class diagnostic_subclass  \\\n",
       "NDT               STTC                STTC   \n",
       "NST_              STTC                NST_   \n",
       "DIG               STTC                STTC   \n",
       "LNGQT             STTC                STTC   \n",
       "NORM              NORM                NORM   \n",
       "\n",
       "                                      Statement Category  \\\n",
       "NDT                    other ST-T descriptive statements   \n",
       "NST_   Basic roots for coding ST-T changes and abnorm...   \n",
       "DIG                    other ST-T descriptive statements   \n",
       "LNGQT                  other ST-T descriptive statements   \n",
       "NORM                                     Normal/abnormal   \n",
       "\n",
       "        SCP-ECG Statement Description  AHA code            aECG REFID  \\\n",
       "NDT    non-diagnostic T abnormalities       NaN                   NaN   \n",
       "NST_          non-specific ST changes     145.0  MDC_ECG_RHY_STHILOST   \n",
       "DIG         suggests digitalis-effect     205.0                   NaN   \n",
       "LNGQT                long QT-interval     148.0                   NaN   \n",
       "NORM                       normal ECG       1.0                   NaN   \n",
       "\n",
       "      CDISC Code DICOM Code  \n",
       "NDT          NaN        NaN  \n",
       "NST_         NaN        NaN  \n",
       "DIG          NaN        NaN  \n",
       "LNGQT        NaN        NaN  \n",
       "NORM         NaN    F-000B7  "
      ]
     },
     "execution_count": 13,
     "metadata": {},
     "output_type": "execute_result"
    }
   ],
   "source": [
    "scp_statements = pd.read_csv(r\"../data/raw/scp_statements.csv\", index_col=0)\n",
    "scp_statements.head()"
   ]
  },
  {
   "cell_type": "code",
   "execution_count": 14,
   "metadata": {},
   "outputs": [
    {
     "data": {
      "text/plain": [
       "71"
      ]
     },
     "execution_count": 14,
     "metadata": {},
     "output_type": "execute_result"
    }
   ],
   "source": [
    "class_to_superclass_mapping = dict(zip(\n",
    "    scp_statements.index, scp_statements.diagnostic_class\n",
    "))\n",
    "\n",
    "len(class_to_superclass_mapping)"
   ]
  },
  {
   "cell_type": "code",
   "execution_count": 15,
   "metadata": {},
   "outputs": [],
   "source": [
    "def aggregate_diagnostic(\n",
    "        diagnoses: Optional[tuple[str]], mapping: dict[str, str]\n",
    ") -> Optional[tuple[Optional[str]]]:\n",
    "    \"\"\"\n",
    "    Return values of encountered keys from the given mapping.\n",
    "    \"\"\"\n",
    "\n",
    "    if not diagnoses:\n",
    "        return None\n",
    "\n",
    "    superclasses = tuple({\n",
    "        superclass\n",
    "        if pd.notna(superclass := mapping.get(diagnose))\n",
    "        else None\n",
    "        for diagnose in diagnoses\n",
    "    })\n",
    "\n",
    "    if None in superclasses:\n",
    "        return None\n",
    "\n",
    "    return superclasses"
   ]
  },
  {
   "cell_type": "code",
   "execution_count": 16,
   "metadata": {},
   "outputs": [
    {
     "name": "stdout",
     "output_type": "stream",
     "text": [
      "None\n"
     ]
    }
   ],
   "source": [
    "print(aggregate_diagnostic((\"DIG\", \"NDT\", None), class_to_superclass_mapping))"
   ]
  },
  {
   "cell_type": "code",
   "execution_count": 17,
   "metadata": {},
   "outputs": [
    {
     "data": {
      "text/plain": [
       "(array([('NORM',), None, ('STTC',), ('HYP',), ('CD',), ('CD', 'STTC'),\n",
       "        ('MI',), ('STTC', 'HYP'), ('CD', 'HYP'), ('CD', 'MI', 'STTC'),\n",
       "        ('CD', 'MI'), ('STTC', 'MI', 'HYP'), ('HYP', 'STTC'),\n",
       "        ('CD', 'STTC', 'HYP'), ('MI', 'STTC'), ('MI', 'HYP'),\n",
       "        ('CD', 'HYP', 'STTC'), ('MI', 'HYP', 'STTC'),\n",
       "        ('STTC', 'CD', 'MI', 'HYP'), ('CD', 'MI', 'HYP'),\n",
       "        ('CD', 'STTC', 'MI', 'HYP'), ('CD', 'MI', 'HYP', 'STTC')],\n",
       "       dtype=object),\n",
       " 22)"
      ]
     },
     "execution_count": 17,
     "metadata": {},
     "output_type": "execute_result"
    }
   ],
   "source": [
    "aggregate_diagnostic_class_to_superclass = partial(\n",
    "    aggregate_diagnostic,\n",
    "    mapping=class_to_superclass_mapping,\n",
    ")\n",
    "\n",
    "ptbxl[\"superclass\"] = ptbxl.diagnoses.apply(aggregate_diagnostic_class_to_superclass)\n",
    "ptbxl.superclass.unique(), len(ptbxl.superclass.unique())"
   ]
  },
  {
   "cell_type": "code",
   "execution_count": 18,
   "metadata": {},
   "outputs": [
    {
     "data": {
      "text/plain": [
       "(('NDT',\n",
       "  'NST_',\n",
       "  'DIG',\n",
       "  'LNGQT',\n",
       "  'NORM',\n",
       "  'IMI',\n",
       "  'ASMI',\n",
       "  'LVH',\n",
       "  'LAFB',\n",
       "  'ISC_',\n",
       "  'IRBBB',\n",
       "  '1AVB',\n",
       "  'IVCD',\n",
       "  'ISCAL',\n",
       "  'CRBBB',\n",
       "  'CLBBB',\n",
       "  'ILMI',\n",
       "  'LAO/LAE',\n",
       "  'AMI',\n",
       "  'ALMI',\n",
       "  'ISCIN',\n",
       "  'INJAS',\n",
       "  'LMI',\n",
       "  'ISCIL',\n",
       "  'LPFB',\n",
       "  'ISCAS',\n",
       "  'INJAL',\n",
       "  'ISCLA',\n",
       "  'RVH',\n",
       "  'ANEUR',\n",
       "  'RAO/RAE',\n",
       "  'EL',\n",
       "  'WPW',\n",
       "  'ILBBB',\n",
       "  'IPLMI',\n",
       "  'ISCAN',\n",
       "  'IPMI',\n",
       "  'SEHYP',\n",
       "  'INJIN',\n",
       "  'INJLA',\n",
       "  'PMI',\n",
       "  '3AVB',\n",
       "  'INJIL',\n",
       "  '2AVB'),\n",
       " 44)"
      ]
     },
     "execution_count": 18,
     "metadata": {},
     "output_type": "execute_result"
    }
   ],
   "source": [
    "classes = tuple(scp_statements[scp_statements.diagnostic_class.notna()].index)\n",
    "classes, len(classes)"
   ]
  },
  {
   "cell_type": "code",
   "execution_count": 19,
   "metadata": {},
   "outputs": [],
   "source": [
    "# classes = tuple(scp_statements.index)\n",
    "# classes, len(classes) # should be 71"
   ]
  },
  {
   "cell_type": "code",
   "execution_count": 20,
   "metadata": {},
   "outputs": [
    {
     "data": {
      "text/plain": [
       "(('STTC', 'NORM', 'MI', 'HYP', 'CD'), 5)"
      ]
     },
     "execution_count": 20,
     "metadata": {},
     "output_type": "execute_result"
    }
   ],
   "source": [
    "superclasses = list(scp_statements.diagnostic_class.unique())\n",
    "superclasses = tuple(filter(lambda diagnose: isinstance(diagnose, str), superclasses))\n",
    "superclasses, len(superclasses)"
   ]
  },
  {
   "cell_type": "code",
   "execution_count": 21,
   "metadata": {},
   "outputs": [
    {
     "data": {
      "text/html": [
       "<div>\n",
       "<style scoped>\n",
       "    .dataframe tbody tr th:only-of-type {\n",
       "        vertical-align: middle;\n",
       "    }\n",
       "\n",
       "    .dataframe tbody tr th {\n",
       "        vertical-align: top;\n",
       "    }\n",
       "\n",
       "    .dataframe thead th {\n",
       "        text-align: right;\n",
       "    }\n",
       "</style>\n",
       "<table border=\"1\" class=\"dataframe\">\n",
       "  <thead>\n",
       "    <tr style=\"text-align: right;\">\n",
       "      <th></th>\n",
       "      <th>patient_id</th>\n",
       "      <th>age</th>\n",
       "      <th>sex</th>\n",
       "      <th>height</th>\n",
       "      <th>weight</th>\n",
       "      <th>nurse</th>\n",
       "      <th>site</th>\n",
       "      <th>device</th>\n",
       "      <th>recording_date</th>\n",
       "      <th>report</th>\n",
       "      <th>...</th>\n",
       "      <th>static_noise</th>\n",
       "      <th>burst_noise</th>\n",
       "      <th>electrodes_problems</th>\n",
       "      <th>extra_beats</th>\n",
       "      <th>pacemaker</th>\n",
       "      <th>strat_fold</th>\n",
       "      <th>filename_lr</th>\n",
       "      <th>filename_hr</th>\n",
       "      <th>diagnoses</th>\n",
       "      <th>superclass</th>\n",
       "    </tr>\n",
       "    <tr>\n",
       "      <th>ecg_id</th>\n",
       "      <th></th>\n",
       "      <th></th>\n",
       "      <th></th>\n",
       "      <th></th>\n",
       "      <th></th>\n",
       "      <th></th>\n",
       "      <th></th>\n",
       "      <th></th>\n",
       "      <th></th>\n",
       "      <th></th>\n",
       "      <th></th>\n",
       "      <th></th>\n",
       "      <th></th>\n",
       "      <th></th>\n",
       "      <th></th>\n",
       "      <th></th>\n",
       "      <th></th>\n",
       "      <th></th>\n",
       "      <th></th>\n",
       "      <th></th>\n",
       "      <th></th>\n",
       "    </tr>\n",
       "  </thead>\n",
       "  <tbody>\n",
       "    <tr>\n",
       "      <th>1</th>\n",
       "      <td>15709.0</td>\n",
       "      <td>56.0</td>\n",
       "      <td>1</td>\n",
       "      <td>NaN</td>\n",
       "      <td>63.0</td>\n",
       "      <td>2.0</td>\n",
       "      <td>0.0</td>\n",
       "      <td>CS-12   E</td>\n",
       "      <td>1984-11-09 09:17:34</td>\n",
       "      <td>sinusrhythmus periphere niederspannung</td>\n",
       "      <td>...</td>\n",
       "      <td>, I-V1,</td>\n",
       "      <td>NaN</td>\n",
       "      <td>NaN</td>\n",
       "      <td>NaN</td>\n",
       "      <td>NaN</td>\n",
       "      <td>3</td>\n",
       "      <td>records100/00000/00001_lr</td>\n",
       "      <td>records500/00000/00001_hr</td>\n",
       "      <td>(NORM,)</td>\n",
       "      <td>(NORM,)</td>\n",
       "    </tr>\n",
       "    <tr>\n",
       "      <th>2</th>\n",
       "      <td>13243.0</td>\n",
       "      <td>19.0</td>\n",
       "      <td>0</td>\n",
       "      <td>NaN</td>\n",
       "      <td>70.0</td>\n",
       "      <td>2.0</td>\n",
       "      <td>0.0</td>\n",
       "      <td>CS-12   E</td>\n",
       "      <td>1984-11-14 12:55:37</td>\n",
       "      <td>sinusbradykardie sonst normales ekg</td>\n",
       "      <td>...</td>\n",
       "      <td>NaN</td>\n",
       "      <td>NaN</td>\n",
       "      <td>NaN</td>\n",
       "      <td>NaN</td>\n",
       "      <td>NaN</td>\n",
       "      <td>2</td>\n",
       "      <td>records100/00000/00002_lr</td>\n",
       "      <td>records500/00000/00002_hr</td>\n",
       "      <td>None</td>\n",
       "      <td>None</td>\n",
       "    </tr>\n",
       "    <tr>\n",
       "      <th>3</th>\n",
       "      <td>20372.0</td>\n",
       "      <td>37.0</td>\n",
       "      <td>1</td>\n",
       "      <td>NaN</td>\n",
       "      <td>69.0</td>\n",
       "      <td>2.0</td>\n",
       "      <td>0.0</td>\n",
       "      <td>CS-12   E</td>\n",
       "      <td>1984-11-15 12:49:10</td>\n",
       "      <td>sinusrhythmus normales ekg</td>\n",
       "      <td>...</td>\n",
       "      <td>NaN</td>\n",
       "      <td>NaN</td>\n",
       "      <td>NaN</td>\n",
       "      <td>NaN</td>\n",
       "      <td>NaN</td>\n",
       "      <td>5</td>\n",
       "      <td>records100/00000/00003_lr</td>\n",
       "      <td>records500/00000/00003_hr</td>\n",
       "      <td>(NORM,)</td>\n",
       "      <td>(NORM,)</td>\n",
       "    </tr>\n",
       "    <tr>\n",
       "      <th>4</th>\n",
       "      <td>17014.0</td>\n",
       "      <td>24.0</td>\n",
       "      <td>0</td>\n",
       "      <td>NaN</td>\n",
       "      <td>82.0</td>\n",
       "      <td>2.0</td>\n",
       "      <td>0.0</td>\n",
       "      <td>CS-12   E</td>\n",
       "      <td>1984-11-15 13:44:57</td>\n",
       "      <td>sinusrhythmus normales ekg</td>\n",
       "      <td>...</td>\n",
       "      <td>NaN</td>\n",
       "      <td>NaN</td>\n",
       "      <td>NaN</td>\n",
       "      <td>NaN</td>\n",
       "      <td>NaN</td>\n",
       "      <td>3</td>\n",
       "      <td>records100/00000/00004_lr</td>\n",
       "      <td>records500/00000/00004_hr</td>\n",
       "      <td>(NORM,)</td>\n",
       "      <td>(NORM,)</td>\n",
       "    </tr>\n",
       "    <tr>\n",
       "      <th>5</th>\n",
       "      <td>17448.0</td>\n",
       "      <td>19.0</td>\n",
       "      <td>1</td>\n",
       "      <td>NaN</td>\n",
       "      <td>70.0</td>\n",
       "      <td>2.0</td>\n",
       "      <td>0.0</td>\n",
       "      <td>CS-12   E</td>\n",
       "      <td>1984-11-17 10:43:15</td>\n",
       "      <td>sinusrhythmus normales ekg</td>\n",
       "      <td>...</td>\n",
       "      <td>NaN</td>\n",
       "      <td>NaN</td>\n",
       "      <td>NaN</td>\n",
       "      <td>NaN</td>\n",
       "      <td>NaN</td>\n",
       "      <td>4</td>\n",
       "      <td>records100/00000/00005_lr</td>\n",
       "      <td>records500/00000/00005_hr</td>\n",
       "      <td>(NORM,)</td>\n",
       "      <td>(NORM,)</td>\n",
       "    </tr>\n",
       "  </tbody>\n",
       "</table>\n",
       "<p>5 rows × 29 columns</p>\n",
       "</div>"
      ],
      "text/plain": [
       "        patient_id   age  sex  height  weight  nurse  site     device  \\\n",
       "ecg_id                                                                  \n",
       "1          15709.0  56.0    1     NaN    63.0    2.0   0.0  CS-12   E   \n",
       "2          13243.0  19.0    0     NaN    70.0    2.0   0.0  CS-12   E   \n",
       "3          20372.0  37.0    1     NaN    69.0    2.0   0.0  CS-12   E   \n",
       "4          17014.0  24.0    0     NaN    82.0    2.0   0.0  CS-12   E   \n",
       "5          17448.0  19.0    1     NaN    70.0    2.0   0.0  CS-12   E   \n",
       "\n",
       "             recording_date                                  report  ...  \\\n",
       "ecg_id                                                               ...   \n",
       "1       1984-11-09 09:17:34  sinusrhythmus periphere niederspannung  ...   \n",
       "2       1984-11-14 12:55:37     sinusbradykardie sonst normales ekg  ...   \n",
       "3       1984-11-15 12:49:10              sinusrhythmus normales ekg  ...   \n",
       "4       1984-11-15 13:44:57              sinusrhythmus normales ekg  ...   \n",
       "5       1984-11-17 10:43:15              sinusrhythmus normales ekg  ...   \n",
       "\n",
       "       static_noise burst_noise electrodes_problems extra_beats  pacemaker  \\\n",
       "ecg_id                                                                       \n",
       "1         , I-V1,           NaN                 NaN         NaN        NaN   \n",
       "2               NaN         NaN                 NaN         NaN        NaN   \n",
       "3               NaN         NaN                 NaN         NaN        NaN   \n",
       "4               NaN         NaN                 NaN         NaN        NaN   \n",
       "5               NaN         NaN                 NaN         NaN        NaN   \n",
       "\n",
       "        strat_fold                filename_lr                filename_hr  \\\n",
       "ecg_id                                                                     \n",
       "1                3  records100/00000/00001_lr  records500/00000/00001_hr   \n",
       "2                2  records100/00000/00002_lr  records500/00000/00002_hr   \n",
       "3                5  records100/00000/00003_lr  records500/00000/00003_hr   \n",
       "4                3  records100/00000/00004_lr  records500/00000/00004_hr   \n",
       "5                4  records100/00000/00005_lr  records500/00000/00005_hr   \n",
       "\n",
       "       diagnoses superclass  \n",
       "ecg_id                       \n",
       "1        (NORM,)    (NORM,)  \n",
       "2           None       None  \n",
       "3        (NORM,)    (NORM,)  \n",
       "4        (NORM,)    (NORM,)  \n",
       "5        (NORM,)    (NORM,)  \n",
       "\n",
       "[5 rows x 29 columns]"
      ]
     },
     "execution_count": 21,
     "metadata": {},
     "output_type": "execute_result"
    }
   ],
   "source": [
    "ptbxl.head()"
   ]
  },
  {
   "cell_type": "code",
   "execution_count": 22,
   "metadata": {},
   "outputs": [
    {
     "data": {
      "text/html": [
       "<div>\n",
       "<style scoped>\n",
       "    .dataframe tbody tr th:only-of-type {\n",
       "        vertical-align: middle;\n",
       "    }\n",
       "\n",
       "    .dataframe tbody tr th {\n",
       "        vertical-align: top;\n",
       "    }\n",
       "\n",
       "    .dataframe thead th {\n",
       "        text-align: right;\n",
       "    }\n",
       "</style>\n",
       "<table border=\"1\" class=\"dataframe\">\n",
       "  <thead>\n",
       "    <tr style=\"text-align: right;\">\n",
       "      <th></th>\n",
       "      <th>patient_id</th>\n",
       "      <th>age</th>\n",
       "      <th>sex</th>\n",
       "      <th>height</th>\n",
       "      <th>weight</th>\n",
       "      <th>nurse</th>\n",
       "      <th>site</th>\n",
       "      <th>device</th>\n",
       "      <th>recording_date</th>\n",
       "      <th>report</th>\n",
       "      <th>...</th>\n",
       "      <th>static_noise</th>\n",
       "      <th>burst_noise</th>\n",
       "      <th>electrodes_problems</th>\n",
       "      <th>extra_beats</th>\n",
       "      <th>pacemaker</th>\n",
       "      <th>strat_fold</th>\n",
       "      <th>filename_lr</th>\n",
       "      <th>filename_hr</th>\n",
       "      <th>diagnoses</th>\n",
       "      <th>superclass</th>\n",
       "    </tr>\n",
       "    <tr>\n",
       "      <th>ecg_id</th>\n",
       "      <th></th>\n",
       "      <th></th>\n",
       "      <th></th>\n",
       "      <th></th>\n",
       "      <th></th>\n",
       "      <th></th>\n",
       "      <th></th>\n",
       "      <th></th>\n",
       "      <th></th>\n",
       "      <th></th>\n",
       "      <th></th>\n",
       "      <th></th>\n",
       "      <th></th>\n",
       "      <th></th>\n",
       "      <th></th>\n",
       "      <th></th>\n",
       "      <th></th>\n",
       "      <th></th>\n",
       "      <th></th>\n",
       "      <th></th>\n",
       "      <th></th>\n",
       "    </tr>\n",
       "  </thead>\n",
       "  <tbody>\n",
       "  </tbody>\n",
       "</table>\n",
       "<p>0 rows × 29 columns</p>\n",
       "</div>"
      ],
      "text/plain": [
       "Empty DataFrame\n",
       "Columns: [patient_id, age, sex, height, weight, nurse, site, device, recording_date, report, scp_codes, heart_axis, infarction_stadium1, infarction_stadium2, validated_by, second_opinion, initial_autogenerated_report, validated_by_human, baseline_drift, static_noise, burst_noise, electrodes_problems, extra_beats, pacemaker, strat_fold, filename_lr, filename_hr, diagnoses, superclass]\n",
       "Index: []\n",
       "\n",
       "[0 rows x 29 columns]"
      ]
     },
     "execution_count": 22,
     "metadata": {},
     "output_type": "execute_result"
    }
   ],
   "source": [
    "ptbxl.dropna(inplace=True, subset=[\"diagnoses\", \"superclass\"])\n",
    "ptbxl.head()"
   ]
  },
  {
   "cell_type": "code",
   "execution_count": 23,
   "metadata": {},
   "outputs": [
    {
     "data": {
      "text/plain": [
       "MultiLabelBinarizer()"
      ]
     },
     "execution_count": 23,
     "metadata": {},
     "output_type": "execute_result"
    }
   ],
   "source": [
    "classes_mlb = MultiLabelBinarizer()\n",
    "superclasses_mlb = MultiLabelBinarizer()\n",
    "\n",
    "classes_mlb.fit([classes])\n",
    "superclasses_mlb.fit([superclasses])"
   ]
  },
  {
   "cell_type": "code",
   "execution_count": 24,
   "metadata": {},
   "outputs": [
    {
     "name": "stdout",
     "output_type": "stream",
     "text": [
      "['1AVB' '2AVB' '3AVB' 'ALMI' 'AMI' 'ANEUR' 'ASMI' 'CLBBB' 'CRBBB' 'DIG'\n",
      " 'EL' 'ILBBB' 'ILMI' 'IMI' 'INJAL' 'INJAS' 'INJIL' 'INJIN' 'INJLA' 'IPLMI'\n",
      " 'IPMI' 'IRBBB' 'ISCAL' 'ISCAN' 'ISCAS' 'ISCIL' 'ISCIN' 'ISCLA' 'ISC_'\n",
      " 'IVCD' 'LAFB' 'LAO/LAE' 'LMI' 'LNGQT' 'LPFB' 'LVH' 'NDT' 'NORM' 'NST_'\n",
      " 'PMI' 'RAO/RAE' 'RVH' 'SEHYP' 'WPW']\n",
      "['CD' 'HYP' 'MI' 'NORM' 'STTC']\n"
     ]
    }
   ],
   "source": [
    "print(classes_mlb.classes_)\n",
    "print(superclasses_mlb.classes_)"
   ]
  },
  {
   "cell_type": "code",
   "execution_count": 25,
   "metadata": {},
   "outputs": [
    {
     "name": "stdout",
     "output_type": "stream",
     "text": [
      "Series([], Name: mlb_diagnose, dtype: float64)\n"
     ]
    }
   ],
   "source": [
    "ptbxl[\"mlb_diagnose\"] = [tuple(diagnose) for diagnose in classes_mlb.transform(ptbxl.diagnoses.to_numpy())]\n",
    "print(ptbxl.mlb_diagnose)"
   ]
  },
  {
   "cell_type": "code",
   "execution_count": 26,
   "metadata": {},
   "outputs": [
    {
     "name": "stdout",
     "output_type": "stream",
     "text": [
      "Series([], Name: mlb_superclass, dtype: float64)\n"
     ]
    }
   ],
   "source": [
    "ptbxl[\"mlb_superclass\"] = [tuple(superclass) for superclass in superclasses_mlb.transform(ptbxl.superclass.to_numpy())]\n",
    "print(ptbxl.mlb_superclass)"
   ]
  },
  {
   "cell_type": "code",
   "execution_count": 27,
   "metadata": {},
   "outputs": [
    {
     "data": {
      "text/html": [
       "<div>\n",
       "<style scoped>\n",
       "    .dataframe tbody tr th:only-of-type {\n",
       "        vertical-align: middle;\n",
       "    }\n",
       "\n",
       "    .dataframe tbody tr th {\n",
       "        vertical-align: top;\n",
       "    }\n",
       "\n",
       "    .dataframe thead th {\n",
       "        text-align: right;\n",
       "    }\n",
       "</style>\n",
       "<table border=\"1\" class=\"dataframe\">\n",
       "  <thead>\n",
       "    <tr style=\"text-align: right;\">\n",
       "      <th></th>\n",
       "      <th>patient_id</th>\n",
       "      <th>age</th>\n",
       "      <th>sex</th>\n",
       "      <th>height</th>\n",
       "      <th>weight</th>\n",
       "      <th>nurse</th>\n",
       "      <th>site</th>\n",
       "      <th>device</th>\n",
       "      <th>recording_date</th>\n",
       "      <th>report</th>\n",
       "      <th>...</th>\n",
       "      <th>electrodes_problems</th>\n",
       "      <th>extra_beats</th>\n",
       "      <th>pacemaker</th>\n",
       "      <th>strat_fold</th>\n",
       "      <th>filename_lr</th>\n",
       "      <th>filename_hr</th>\n",
       "      <th>diagnoses</th>\n",
       "      <th>superclass</th>\n",
       "      <th>mlb_diagnose</th>\n",
       "      <th>mlb_superclass</th>\n",
       "    </tr>\n",
       "    <tr>\n",
       "      <th>ecg_id</th>\n",
       "      <th></th>\n",
       "      <th></th>\n",
       "      <th></th>\n",
       "      <th></th>\n",
       "      <th></th>\n",
       "      <th></th>\n",
       "      <th></th>\n",
       "      <th></th>\n",
       "      <th></th>\n",
       "      <th></th>\n",
       "      <th></th>\n",
       "      <th></th>\n",
       "      <th></th>\n",
       "      <th></th>\n",
       "      <th></th>\n",
       "      <th></th>\n",
       "      <th></th>\n",
       "      <th></th>\n",
       "      <th></th>\n",
       "      <th></th>\n",
       "      <th></th>\n",
       "    </tr>\n",
       "  </thead>\n",
       "  <tbody>\n",
       "  </tbody>\n",
       "</table>\n",
       "<p>0 rows × 31 columns</p>\n",
       "</div>"
      ],
      "text/plain": [
       "Empty DataFrame\n",
       "Columns: [patient_id, age, sex, height, weight, nurse, site, device, recording_date, report, scp_codes, heart_axis, infarction_stadium1, infarction_stadium2, validated_by, second_opinion, initial_autogenerated_report, validated_by_human, baseline_drift, static_noise, burst_noise, electrodes_problems, extra_beats, pacemaker, strat_fold, filename_lr, filename_hr, diagnoses, superclass, mlb_diagnose, mlb_superclass]\n",
       "Index: []\n",
       "\n",
       "[0 rows x 31 columns]"
      ]
     },
     "execution_count": 27,
     "metadata": {},
     "output_type": "execute_result"
    }
   ],
   "source": [
    "ptbxl.tail()"
   ]
  },
  {
   "cell_type": "code",
   "execution_count": 28,
   "metadata": {},
   "outputs": [],
   "source": [
    "train = ptbxl[ptbxl.strat_fold < 9]\n",
    "validation = ptbxl[ptbxl.strat_fold == 9]\n",
    "test = ptbxl[ptbxl.strat_fold == 10]"
   ]
  },
  {
   "cell_type": "code",
   "execution_count": 29,
   "metadata": {},
   "outputs": [
    {
     "data": {
      "text/plain": [
       "(0, 0, 0)"
      ]
     },
     "execution_count": 29,
     "metadata": {},
     "output_type": "execute_result"
    }
   ],
   "source": [
    "len(train), len(validation), len(test)"
   ]
  }
 ],
 "metadata": {
  "interpreter": {
   "hash": "fb224da15a7ef2cdaecd6d8f0066847ea638a27291f4bc46219d7fc6e6092309"
  },
  "kernelspec": {
   "display_name": "Python 3.10.2 ('.venv': venv)",
   "language": "python",
   "name": "python3"
  },
  "language_info": {
   "codemirror_mode": {
    "name": "ipython",
    "version": 3
   },
   "file_extension": ".py",
   "mimetype": "text/x-python",
   "name": "python",
   "nbconvert_exporter": "python",
   "pygments_lexer": "ipython3",
   "version": "3.10.2"
  },
  "orig_nbformat": 4
 },
 "nbformat": 4,
 "nbformat_minor": 2
}
