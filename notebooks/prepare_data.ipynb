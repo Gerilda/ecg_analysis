{
 "cells": [
  {
   "cell_type": "code",
   "execution_count": null,
   "metadata": {},
   "outputs": [],
   "source": [
    "import ast\n",
    "from functools import partial\n",
    "\n",
    "import pandas as pd\n",
    "from sklearn.preprocessing import MultiLabelBinarizer"
   ]
  },
  {
   "cell_type": "code",
   "execution_count": null,
   "metadata": {},
   "outputs": [],
   "source": [
    "ptbxl = pd.read_csv(r\"../data/raw/ptbxl_database.csv\", index_col=\"ecg_id\")"
   ]
  },
  {
   "cell_type": "code",
   "execution_count": null,
   "metadata": {},
   "outputs": [],
   "source": [
    "unique_diagnosis = ptbxl.scp_codes.unique()\n",
    "unique_diagnosis, len(unique_diagnosis)"
   ]
  },
  {
   "cell_type": "code",
   "execution_count": null,
   "metadata": {},
   "outputs": [],
   "source": [
    "# Convert dict string to dict object\n",
    "ptbxl.scp_codes = ptbxl.scp_codes.apply(ast.literal_eval)"
   ]
  },
  {
   "cell_type": "code",
   "execution_count": null,
   "metadata": {},
   "outputs": [],
   "source": [
    "ptbxl.scp_codes"
   ]
  },
  {
   "cell_type": "code",
   "execution_count": null,
   "metadata": {},
   "outputs": [],
   "source": [
    "def probs_to_tuple(probs: dict[str, int], threshold: int = 20) -> tuple[str]:\n",
    "    \"\"\"\n",
    "    Convert dict of diagnoses and their probabilities to\n",
    "    tuple of diagnoses with probabilities >= given threshold.\n",
    "    Also if probabilities of diagnoses < probability of NORM, return (\"NORM\",)\n",
    "    else tuple of diagnoses with probabilities >= probability of NORM.\n",
    "    \"\"\"\n",
    "\n",
    "    norm_prob = probs.get(\"NORM\", 0)\n",
    "\n",
    "    result = [\n",
    "        key for key, value in probs.items() if (\n",
    "            value >= threshold and value >= norm_prob  and key != \"NORM\"\n",
    "        )\n",
    "    ]\n",
    "\n",
    "    return res if (res := tuple(result)) else (\"NORM\",)"
   ]
  },
  {
   "cell_type": "code",
   "execution_count": null,
   "metadata": {},
   "outputs": [],
   "source": [
    "# Some tests for above function\n",
    "\n",
    "assert probs_to_tuple({\"NORM\": 100, \"1\": 20, \"2\": 30}) == (\"NORM\",)\n",
    "assert probs_to_tuple({\"NORM\": 40, \"1\": 50, \"2\": 100}) == (\"1\", \"2\")\n",
    "assert probs_to_tuple({\"NORM\": 40, \"1\": 50, \"2\": 20}) == (\"1\",)\n",
    "assert probs_to_tuple({\"1\": 50, \"2\": 20}) == (\"1\", \"2\")"
   ]
  },
  {
   "cell_type": "code",
   "execution_count": null,
   "metadata": {},
   "outputs": [],
   "source": [
    "probs_to_tuple_15 = partial(probs_to_tuple, threshold=15)"
   ]
  },
  {
   "cell_type": "code",
   "execution_count": null,
   "metadata": {},
   "outputs": [],
   "source": [
    "ptbxl[\"diagnoses\"] = ptbxl.scp_codes.apply(probs_to_tuple_15)\n",
    "ptbxl.diagnoses"
   ]
  },
  {
   "cell_type": "code",
   "execution_count": null,
   "metadata": {},
   "outputs": [],
   "source": [
    "ptbxl.diagnoses.unique(), len(ptbxl.diagnoses.unique())"
   ]
  },
  {
   "cell_type": "code",
   "execution_count": null,
   "metadata": {},
   "outputs": [],
   "source": [
    "len(ptbxl[ptbxl.diagnoses == (\"NORM\",)])"
   ]
  },
  {
   "cell_type": "code",
   "execution_count": null,
   "metadata": {},
   "outputs": [],
   "source": [
    "# Almost half of the dataset is NORM"
   ]
  },
  {
   "cell_type": "code",
   "execution_count": null,
   "metadata": {},
   "outputs": [],
   "source": [
    "scp_statements = pd.read_csv(r\"../data/raw/scp_statements.csv\", index_col=0)\n",
    "scp_statements.head()"
   ]
  },
  {
   "cell_type": "code",
   "execution_count": null,
   "metadata": {},
   "outputs": [],
   "source": [
    "class_to_superclass_mapping = dict(zip(\n",
    "    scp_statements.index, scp_statements.diagnostic_class\n",
    "))\n",
    "\n",
    "len(class_to_superclass_mapping)"
   ]
  },
  {
   "cell_type": "code",
   "execution_count": null,
   "metadata": {},
   "outputs": [],
   "source": [
    "def aggregate_diagnostic(diagnoses: tuple[str], mapping: dict[str, str]):\n",
    "    \"\"\"\n",
    "    Return values of encountered keys from the given mapping\n",
    "    \"\"\"\n",
    "\n",
    "    superclasses = {\n",
    "        superclass for diagnose in diagnoses\n",
    "        if isinstance(superclass := mapping.get(diagnose), str)\n",
    "    }\n",
    "\n",
    "    return res if (res := tuple(superclasses)) else (\"NONE\",)"
   ]
  },
  {
   "cell_type": "code",
   "execution_count": null,
   "metadata": {},
   "outputs": [],
   "source": [
    "aggregate_diagnostic((\"DIG\", \"NDT\", None), class_to_superclass_mapping)"
   ]
  },
  {
   "cell_type": "code",
   "execution_count": null,
   "metadata": {},
   "outputs": [],
   "source": [
    "aggregate_diagnostic_class_to_superclass = partial(\n",
    "    aggregate_diagnostic,\n",
    "    mapping=class_to_superclass_mapping,\n",
    ")\n",
    "\n",
    "ptbxl[\"superclass\"] = ptbxl.diagnoses.apply(aggregate_diagnostic_class_to_superclass)\n",
    "ptbxl.superclass.unique(), len(ptbxl.superclass.unique())"
   ]
  },
  {
   "cell_type": "code",
   "execution_count": null,
   "metadata": {},
   "outputs": [],
   "source": [
    "classes = tuple(scp_statements.index)\n",
    "classes, len(classes) # should be 71"
   ]
  },
  {
   "cell_type": "code",
   "execution_count": null,
   "metadata": {},
   "outputs": [],
   "source": [
    "superclasses = list(scp_statements.diagnostic_class.unique()) + [\"NONE\"]\n",
    "superclasses = tuple(filter(lambda diagnose: isinstance(diagnose, str), superclasses))\n",
    "superclasses, len(superclasses)"
   ]
  },
  {
   "cell_type": "code",
   "execution_count": null,
   "metadata": {},
   "outputs": [],
   "source": [
    "classes_mlb = MultiLabelBinarizer()\n",
    "superclasses_mlb = MultiLabelBinarizer()\n",
    "\n",
    "classes_mlb.fit([classes])\n",
    "superclasses_mlb.fit([superclasses])"
   ]
  },
  {
   "cell_type": "code",
   "execution_count": null,
   "metadata": {},
   "outputs": [],
   "source": [
    "print(classes_mlb.classes_)\n",
    "print(superclasses_mlb.classes_)"
   ]
  },
  {
   "cell_type": "code",
   "execution_count": null,
   "metadata": {},
   "outputs": [],
   "source": [
    "ptbxl[\"mlb_diagnose\"] = [tuple(diagnose) for diagnose in classes_mlb.transform(ptbxl.diagnoses.to_numpy())]\n",
    "print(ptbxl.mlb_diagnose)"
   ]
  },
  {
   "cell_type": "code",
   "execution_count": null,
   "metadata": {},
   "outputs": [],
   "source": [
    "ptbxl[\"mlb_superclass\"] = [tuple(superclass) for superclass in superclasses_mlb.transform(ptbxl.superclass.to_numpy())]\n",
    "print(ptbxl.mlb_superclass)"
   ]
  },
  {
   "cell_type": "code",
   "execution_count": null,
   "metadata": {},
   "outputs": [],
   "source": [
    "ptbxl.tail()"
   ]
  },
  {
   "cell_type": "code",
   "execution_count": null,
   "metadata": {},
   "outputs": [],
   "source": [
    "train = ptbxl[ptbxl.strat_fold < 9]\n",
    "validation = ptbxl[ptbxl.strat_fold == 9]\n",
    "test = ptbxl[ptbxl.strat_fold == 10]"
   ]
  },
  {
   "cell_type": "code",
   "execution_count": null,
   "metadata": {},
   "outputs": [],
   "source": [
    "len(train), len(validation), len(test)"
   ]
  }
 ],
 "metadata": {
  "interpreter": {
   "hash": "fb224da15a7ef2cdaecd6d8f0066847ea638a27291f4bc46219d7fc6e6092309"
  },
  "kernelspec": {
   "display_name": "Python 3.10.2 ('.venv': venv)",
   "language": "python",
   "name": "python3"
  },
  "language_info": {
   "codemirror_mode": {
    "name": "ipython",
    "version": 3
   },
   "file_extension": ".py",
   "mimetype": "text/x-python",
   "name": "python",
   "nbconvert_exporter": "python",
   "pygments_lexer": "ipython3",
   "version": "3.10.2"
  },
  "orig_nbformat": 4
 },
 "nbformat": 4,
 "nbformat_minor": 2
}
